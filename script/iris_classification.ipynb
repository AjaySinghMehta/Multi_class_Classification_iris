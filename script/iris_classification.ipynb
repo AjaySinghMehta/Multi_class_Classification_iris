{
 "cells": [
  {
   "cell_type": "markdown",
   "metadata": {},
   "source": [
    "import all the libraries and packages\n"
   ]
  },
  {
   "cell_type": "code",
   "execution_count": 1,
   "metadata": {},
   "outputs": [],
   "source": [
    "#importin all the related packages nad framework\n",
    "\n",
    "import pandas as pd\n",
    "import tensorflow as tf\n",
    "import numpy as np \n",
    "from sklearn.model_selection import train_test_split\n",
    "from sklearn.preprocessing import StandardScaler\n",
    "\n",
    "from sklearn import preprocessing\n"
   ]
  },
  {
   "cell_type": "code",
   "execution_count": 7,
   "metadata": {},
   "outputs": [
    {
     "name": "stdout",
     "output_type": "stream",
     "text": [
      "data before numeric conversion \n",
      "    Sepal.Length  Sepal.Width  Petal.Length  Petal.Width Species\n",
      "0           5.1          3.5           1.4          0.2  setosa\n",
      "1           4.9          3.0           1.4          0.2  setosa\n",
      "2           4.7          3.2           1.3          0.2  setosa\n",
      "3           4.6          3.1           1.5          0.2  setosa\n",
      "4           5.0          3.6           1.4          0.2  setosa\n",
      "data after the numeric conversion \n",
      "features \n",
      " [[5.1 3.5 1.4 0.2]\n",
      " [4.9 3.  1.4 0.2]\n",
      " [4.7 3.2 1.3 0.2]\n",
      " [4.6 3.1 1.5 0.2]\n",
      " [5.  3.6 1.4 0.2]]\n",
      "labels \n",
      " [0. 0. 0. 0. 0.]\n"
     ]
    }
   ],
   "source": [
    "#geting the data and preparing the data\n",
    "\n",
    "#loading data\n",
    "iris_data = pd.read_csv('G:\\projects\\multiclass_classification_iris\\data\\iris.csv')\n",
    "\n",
    "print(\"data before numeric conversion \\n\", iris_data.head())\n",
    "\n",
    "#using label encoder to convert the string to numeric values \n",
    "\n",
    "label_encoder = preprocessing.LabelEncoder()\n",
    "iris_data['Species']= label_encoder.fit_transform(iris_data['Species'])\n",
    "\n",
    "#converting string to numpy array \n",
    "train_data = iris_data.to_numpy()\n",
    "\n",
    "#separting features and labels\n",
    "features = train_data[:,0:4]\n",
    "label = train_data[:,4]\n",
    "\n",
    "#displaying the features \n",
    "print(\"data after the numeric conversion \\nfeatures \\n\" , features[:5,:])\n",
    "\n",
    "#displaying the labels \n",
    "print(\"labels \\n\", label[:5])\n"
   ]
  },
  {
   "cell_type": "code",
   "execution_count": null,
   "metadata": {},
   "outputs": [],
   "source": []
  }
 ],
 "metadata": {
  "kernelspec": {
   "display_name": "Python 3.10.6 64-bit",
   "language": "python",
   "name": "python3"
  },
  "language_info": {
   "codemirror_mode": {
    "name": "ipython",
    "version": 3
   },
   "file_extension": ".py",
   "mimetype": "text/x-python",
   "name": "python",
   "nbconvert_exporter": "python",
   "pygments_lexer": "ipython3",
   "version": "3.10.6"
  },
  "orig_nbformat": 4,
  "vscode": {
   "interpreter": {
    "hash": "fbe58ca63fe33f9eeae9e71d10368d2b4a57f2b1b395836210cc60d362c66949"
   }
  }
 },
 "nbformat": 4,
 "nbformat_minor": 2
}
