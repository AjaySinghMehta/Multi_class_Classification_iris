{
 "cells": [
  {
   "cell_type": "markdown",
   "metadata": {},
   "source": [
    "importing all the libraries and packages\n"
   ]
  },
  {
   "cell_type": "markdown",
   "metadata": {},
   "source": [
    "importing the framework and the data.\n",
    "Preparing the input data for the model \n",
    " Scaling, Spliting, Encoding "
   ]
  },
  {
   "cell_type": "code",
   "execution_count": 47,
   "metadata": {},
   "outputs": [],
   "source": [
    "#importin all the related packages nad framework\n",
    "\n",
    "import pandas as pd\n",
    "import tensorflow as tf\n",
    "import numpy as np \n",
    "from sklearn.model_selection import train_test_split\n",
    "from sklearn.preprocessing import StandardScaler\n",
    "\n",
    "from sklearn import preprocessing\n",
    "\n",
    "import matplotlib.pyplot as plt\n",
    "\n"
   ]
  },
  {
   "cell_type": "code",
   "execution_count": 48,
   "metadata": {},
   "outputs": [
    {
     "name": "stdout",
     "output_type": "stream",
     "text": [
      "data before numeric conversion \n",
      "    Sepal.Length  Sepal.Width  Petal.Length  Petal.Width Species\n",
      "0           5.1          3.5           1.4          0.2  setosa\n",
      "1           4.9          3.0           1.4          0.2  setosa\n",
      "2           4.7          3.2           1.3          0.2  setosa\n",
      "3           4.6          3.1           1.5          0.2  setosa\n",
      "4           5.0          3.6           1.4          0.2  setosa\n",
      "data after the numeric conversion \n",
      "features \n",
      " [[5.1 3.5 1.4 0.2]\n",
      " [4.9 3.  1.4 0.2]\n",
      " [4.7 3.2 1.3 0.2]\n",
      " [4.6 3.1 1.5 0.2]\n",
      " [5.  3.6 1.4 0.2]]\n",
      "labels \n",
      " [0. 0. 0. 0. 0.]\n"
     ]
    }
   ],
   "source": [
    "#geting the data and preparing the data\n",
    "\n",
    "#loading data\n",
    "iris_data = pd.read_csv('G:\\projects\\multiclass_classification_iris\\data\\iris.csv')\n",
    "\n",
    "print(\"data before numeric conversion \\n\", iris_data.head())\n",
    "\n",
    "#using label encoder to convert the string to numeric values \n",
    "\n",
    "label_encoder = preprocessing.LabelEncoder()\n",
    "iris_data['Species']= label_encoder.fit_transform(iris_data['Species'])\n",
    "\n",
    "#converting string to numpy array \n",
    "train_data = iris_data.to_numpy()\n",
    "\n",
    "#separting features and labels\n",
    "features = train_data[:,0:4]\n",
    "labels = train_data[:,4]\n",
    "\n",
    "#displaying the features \n",
    "print(\"data after the numeric conversion \\nfeatures \\n\" , features[:5,:])\n",
    "\n",
    "#displaying the labels \n",
    "print(\"labels \\n\", labels[:5])\n"
   ]
  },
  {
   "cell_type": "code",
   "execution_count": 49,
   "metadata": {},
   "outputs": [],
   "source": [
    "#creating a scaler model that is fit on the input data.\n",
    "scaler = StandardScaler().fit(features)\n",
    "\n",
    "#scaling the numeric feature variable\n",
    "features = scaler.transform(features)\n",
    "\n",
    "\n",
    "#encoding the target variables as one_hot_encoding array\n",
    "labels = tf.keras.utils.to_categorical(labels,3)\n"
   ]
  },
  {
   "cell_type": "code",
   "execution_count": 50,
   "metadata": {},
   "outputs": [
    {
     "name": "stdout",
     "output_type": "stream",
     "text": [
      "\n",
      "Training features \n",
      " [[-0.29484182 -0.36217625 -0.08980313  0.13250973]\n",
      " [-0.90068117  0.55861082 -1.16971425 -0.92054774]\n",
      " [-1.26418478  0.09821729 -1.22655167 -1.3154443 ]\n",
      " [-1.02184904 -2.43394714 -0.14664056 -0.26238682]\n",
      " [ 1.2803405   0.09821729  0.76275827  1.44883158]]\n",
      "\n",
      "Training labels \n",
      " [[0. 1. 0.]\n",
      " [1. 0. 0.]\n",
      " [1. 0. 0.]\n",
      " [0. 1. 0.]\n",
      " [0. 0. 1.]]\n",
      "\n",
      "Testing features \n",
      " [[ 0.4321654  -0.36217625  0.30805885  0.13250973]\n",
      " [ 0.55333328  0.55861082  1.27429511  1.71209594]\n",
      " [ 0.55333328 -0.82256978  0.64908342  0.79067065]\n",
      " [-1.02184904  0.55861082 -1.34022653 -1.3154443 ]\n",
      " [-1.74885626 -0.13197948 -1.39706395 -1.3154443 ]]\n",
      "\n",
      "Testing labels \n",
      " [[0. 1. 0.]\n",
      " [0. 0. 1.]\n",
      " [0. 0. 1.]\n",
      " [1. 0. 0.]\n",
      " [1. 0. 0.]]\n"
     ]
    }
   ],
   "source": [
    "\n",
    "#splitting the data into trinaing and testing set\n",
    "X_train,X_test,Y_train,Y_test = train_test_split(features , labels, test_size = 0.10)\n",
    "\n",
    "#printing the splited data\n",
    "\n",
    "print(\"\\nTraining features \\n\", X_train[:5])\n",
    "print(\"\\nTraining labels \\n\", Y_train[:5])\n",
    "print(\"\\nTesting features \\n\", X_test[:5])\n",
    "print(\"\\nTesting labels \\n\", Y_test[:5])\n"
   ]
  },
  {
   "cell_type": "markdown",
   "metadata": {},
   "source": [
    "Creating a model includes following \n",
    " 1. Number of hidden layers\n",
    " 2. Number of nodes in each layer\n",
    " 3. Acitvation function\n",
    " 4. Loss Function and Accuracy Measurement\n",
    " "
   ]
  },
  {
   "cell_type": "code",
   "execution_count": 51,
   "metadata": {},
   "outputs": [
    {
     "name": "stdout",
     "output_type": "stream",
     "text": [
      "Model: \"sequential_7\"\n",
      "_________________________________________________________________\n",
      " Layer (type)                Output Shape              Param #   \n",
      "=================================================================\n",
      " Hidden_layer_1 (Dense)      (None, 128)               640       \n",
      "                                                                 \n",
      " Hidden_layer_2 (Dense)      (None, 128)               16512     \n",
      "                                                                 \n",
      " Output_layer (Dense)        (None, 3)                 387       \n",
      "                                                                 \n",
      "=================================================================\n",
      "Total params: 17,539\n",
      "Trainable params: 17,539\n",
      "Non-trainable params: 0\n",
      "_________________________________________________________________\n"
     ]
    }
   ],
   "source": [
    "#creating a sequential model in keras\n",
    "model  = tf.keras.models.Sequential()\n",
    "\n",
    "#adding a first hidden layer with relu activation function \n",
    "model.add(tf.keras.layers.Dense(128, input_shape=(4,), name = 'Hidden_layer_1',activation='relu'))\n",
    "                               #number of nodes, number of input variables, logical name, Activation function\n",
    "\n",
    "#adding second layer  with relu activation function \n",
    "model.add(tf.keras.layers.Dense(128,name = 'Hidden_layer_2',activation = 'relu'))\n",
    "\n",
    "#adding an output layer with sofmax activation function\n",
    "model.add(tf.keras.layers.Dense(3,name = 'Output_layer', activation= 'softmax'))\n",
    "\n",
    "#compile the model with loss and metrices\n",
    "model.compile(loss = 'categorical_crossentropy',metrics=['accuracy'])\n",
    "\n",
    "#printing the  metadata of the model \n",
    "model.summary()\n"
   ]
  },
  {
   "cell_type": "markdown",
   "metadata": {},
   "source": [
    "\n",
    "Training our evaluating our model\n",
    "\n",
    "it involves defining various training models and then perform forward and back propagation\n",
    "\n"
   ]
  },
  {
   "cell_type": "code",
   "execution_count": 52,
   "metadata": {},
   "outputs": [
    {
     "name": "stdout",
     "output_type": "stream",
     "text": [
      "\n",
      " training progress \n",
      "\n",
      "Epoch 1/10\n",
      "14/14 [==============================] - 1s 14ms/step - loss: 0.8545 - accuracy: 0.7315 - val_loss: 0.5257 - val_accuracy: 0.8889\n",
      "Epoch 2/10\n",
      "14/14 [==============================] - 0s 3ms/step - loss: 0.4807 - accuracy: 0.8426 - val_loss: 0.3568 - val_accuracy: 0.9259\n",
      "Epoch 3/10\n",
      "14/14 [==============================] - 0s 3ms/step - loss: 0.3713 - accuracy: 0.8611 - val_loss: 0.2803 - val_accuracy: 0.9259\n",
      "Epoch 4/10\n",
      "14/14 [==============================] - 0s 3ms/step - loss: 0.3170 - accuracy: 0.8426 - val_loss: 0.2380 - val_accuracy: 0.9630\n",
      "Epoch 5/10\n",
      "14/14 [==============================] - 0s 3ms/step - loss: 0.2748 - accuracy: 0.8796 - val_loss: 0.2088 - val_accuracy: 0.9630\n",
      "Epoch 6/10\n",
      "14/14 [==============================] - 0s 4ms/step - loss: 0.2449 - accuracy: 0.8704 - val_loss: 0.2026 - val_accuracy: 0.8889\n",
      "Epoch 7/10\n",
      "14/14 [==============================] - 0s 4ms/step - loss: 0.2165 - accuracy: 0.8889 - val_loss: 0.1590 - val_accuracy: 1.0000\n",
      "Epoch 8/10\n",
      "14/14 [==============================] - 0s 3ms/step - loss: 0.2024 - accuracy: 0.9074 - val_loss: 0.1404 - val_accuracy: 1.0000\n",
      "Epoch 9/10\n",
      "14/14 [==============================] - 0s 4ms/step - loss: 0.1837 - accuracy: 0.9167 - val_loss: 0.1259 - val_accuracy: 1.0000\n",
      "Epoch 10/10\n",
      "14/14 [==============================] - 0s 4ms/step - loss: 0.1669 - accuracy: 0.9444 - val_loss: 0.1293 - val_accuracy: 0.9259\n",
      "\n",
      " Accuracy \n",
      "\n"
     ]
    },
    {
     "data": {
      "image/png": "[encoded data removed]",
      "text/plain": [
       "<Figure size 800x500 with 1 Axes>"
      ]
     },
     "metadata": {},
     "output_type": "display_data"
    },
    {
     "name": "stdout",
     "output_type": "stream",
     "text": [
      "\n",
      " evaluation against test Dataset \n",
      "\n",
      "1/1 [==============================] - 0s 24ms/step - loss: 0.2997 - accuracy: 0.8000\n"
     ]
    },
    {
     "data": {
      "text/plain": [
       "[0.2996542751789093, 0.800000011920929]"
      ]
     },
     "execution_count": 52,
     "metadata": {},
     "output_type": "execute_result"
    }
   ],
   "source": [
    "#setting batch_size\n",
    "BATCH_SIZE = 8\n",
    "\n",
    "#setting epochs \n",
    "EPOCHS = 10\n",
    "\n",
    "#setting validation split. 20% of the training data will be used for the validation after each epoch\n",
    "VALIDATION_SPLIT = 0.2\n",
    "\n",
    "print(\"\\n training progress \\n\")\n",
    "#fit the model. perforiming entire training cycle, including forward propagation , loss computation , backward propagation , gradient and all of the computation\n",
    "history = model.fit(X_train, Y_train,\n",
    "                    batch_size = BATCH_SIZE, \n",
    "                    epochs = EPOCHS, \n",
    "                    verbose = 1,\n",
    "                    validation_split = VALIDATION_SPLIT)\n",
    "\n",
    "print(\"\\n Accuracy \\n\")\n",
    "\n",
    "#plotting accuracy of the model after each epoch\n",
    "\n",
    "pd.DataFrame(history.history)[\"accuracy\"].plot(figsize=(8,5))\n",
    "plt.title(\"Accuracy improvements with each epoch\")\n",
    "plt.show()\n",
    "\n",
    "\n",
    "#evaluating the model \n",
    "\n",
    "print(\"\\n evaluation against test Dataset \\n\")\n",
    "model.evaluate(X_test,Y_test)\n"
   ]
  },
  {
   "cell_type": "markdown",
   "metadata": {},
   "source": [
    "saving and loding the modle\n",
    "\n",
    "models need to be saved after they are validated. they are then loaded into the inference  environments for actual prediction \n"
   ]
  },
  {
   "cell_type": "code",
   "execution_count": 53,
   "metadata": {},
   "outputs": [
    {
     "name": "stderr",
     "output_type": "stream",
     "text": [
      "WARNING:absl:Function `_wrapped_model` contains input name(s) Hidden_layer_1_input with unsupported characters which will be renamed to hidden_layer_1_input in the SavedModel.\n"
     ]
    },
    {
     "name": "stdout",
     "output_type": "stream",
     "text": [
      "INFO:tensorflow:Assets written to: iris_model\\assets\n"
     ]
    },
    {
     "name": "stderr",
     "output_type": "stream",
     "text": [
      "INFO:tensorflow:Assets written to: iris_model\\assets\n"
     ]
    },
    {
     "name": "stdout",
     "output_type": "stream",
     "text": [
      "Model: \"sequential_7\"\n",
      "_________________________________________________________________\n",
      " Layer (type)                Output Shape              Param #   \n",
      "=================================================================\n",
      " Hidden_layer_1 (Dense)      (None, 128)               640       \n",
      "                                                                 \n",
      " Hidden_layer_2 (Dense)      (None, 128)               16512     \n",
      "                                                                 \n",
      " Output_layer (Dense)        (None, 3)                 387       \n",
      "                                                                 \n",
      "=================================================================\n",
      "Total params: 17,539\n",
      "Trainable params: 17,539\n",
      "Non-trainable params: 0\n",
      "_________________________________________________________________\n"
     ]
    }
   ],
   "source": [
    "#saving model \n",
    "\n",
    "model.save(\"iris_model\")\n",
    "\n",
    "#loading the model\n",
    "\n",
    "loaded_model = tf.keras.models.load_model(\"iris_model\")\n",
    "\n",
    "#loading model summary \n",
    " \n",
    "loaded_model.summary()\n",
    " \n"
   ]
  },
  {
   "cell_type": "markdown",
   "metadata": {},
   "source": [
    "Making acutal predictions \n"
   ]
  },
  {
   "cell_type": "code",
   "execution_count": 54,
   "metadata": {},
   "outputs": [
    {
     "name": "stdout",
     "output_type": "stream",
     "text": [
      "1/1 [==============================] - 0s 67ms/step\n",
      "\n",
      " the raw predictions is  [[0.04770333 0.69864476 0.2536519 ]]\n",
      "prediction is  ['versicolor']\n"
     ]
    }
   ],
   "source": [
    "#Raw prediction data\n",
    "prediction_input = [[6.,3.1,4.,1.4]]\n",
    "\n",
    "#scale prediction data with the same scaling model \n",
    "scaled_input = scaler.transform(prediction_input)\n",
    "\n",
    "#getting probability\n",
    "raw_prediction = model.predict(scaled_input)\n",
    "\n",
    "print(\"\\n the raw predictions is \", raw_prediction)\n",
    "\n",
    "#find prediction \n",
    "prediction = np.argmax(raw_prediction)\n",
    "\n",
    "print(\"prediction is \", label_encoder.inverse_transform([prediction]))"
   ]
  },
  {
   "cell_type": "code",
   "execution_count": null,
   "metadata": {},
   "outputs": [],
   "source": []
  }
 ],
 "metadata": {
  "kernelspec": {
   "display_name": "Python 3.10.6 64-bit",
   "language": "python",
   "name": "python3"
  },
  "language_info": {
   "codemirror_mode": {
    "name": "ipython",
    "version": 3
   },
   "file_extension": ".py",
   "mimetype": "text/x-python",
   "name": "python",
   "nbconvert_exporter": "python",
   "pygments_lexer": "ipython3",
   "version": "3.10.6"
  },
  "orig_nbformat": 4,
  "vscode": {
   "interpreter": {
    "hash": "fbe58ca63fe33f9eeae9e71d10368d2b4a57f2b1b395836210cc60d362c66949"
   }
  }
 },
 "nbformat": 4,
 "nbformat_minor": 2
}
